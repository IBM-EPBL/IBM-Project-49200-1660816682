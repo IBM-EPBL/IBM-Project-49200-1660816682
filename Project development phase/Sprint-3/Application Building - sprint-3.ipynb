{
 "cells": [
  {
   "cell_type": "code",
   "execution_count": null,
   "id": "5f5f8abb",
   "metadata": {},
   "outputs": [],
   "source": [
    "'''Application Building:\n",
    "    After the model is built, integrating it to a web application\n",
    "    using Flask framework so that normal users can also use it \n",
    "    to predict the energy in a no-code manner. In the application,\n",
    "    the user provides the required values and get the prediction.\n",
    "    user provides input as city and get the weather conditions for that city\n",
    "    such as temperature, wind direction, wind speed from openweather API and user can also\n",
    "    give the particular month,day to predict the output energy power for a given month and day'''"
   ]
  },
  {
   "cell_type": "code",
   "execution_count": null,
   "id": "f7081ecb",
   "metadata": {},
   "outputs": [
    {
     "name": "stdout",
     "output_type": "stream",
     "text": [
      " * Serving Flask app '__main__' (lazy loading)\n",
      " * Environment: production\n",
      "\u001b[31m   WARNING: This is a development server. Do not use it in a production deployment.\u001b[0m\n",
      "\u001b[2m   Use a production WSGI server instead.\u001b[0m\n",
      " * Debug mode: off\n"
     ]
    },
    {
     "name": "stderr",
     "output_type": "stream",
     "text": [
      " * Running on http://127.0.0.1:5000/ (Press CTRL+C to quit)\n",
      "127.0.0.1 - - [04/Nov/2022 11:26:00] \"GET / HTTP/1.1\" 200 -\n",
      "127.0.0.1 - - [04/Nov/2022 11:26:00] \"GET /static/images/m123.gif HTTP/1.1\" 404 -\n",
      "127.0.0.1 - - [04/Nov/2022 11:26:00] \"GET /favicon.ico HTTP/1.1\" 404 -\n",
      "127.0.0.1 - - [04/Nov/2022 11:26:02] \"GET /predict HTTP/1.1\" 200 -\n",
      "127.0.0.1 - - [04/Nov/2022 11:26:02] \"GET /static/css/main.css HTTP/1.1\" 404 -\n",
      "127.0.0.1 - - [04/Nov/2022 11:26:02] \"GET /static/css/items_grid.css HTTP/1.1\" 404 -\n",
      "127.0.0.1 - - [04/Nov/2022 11:26:02] \"GET /static/css/media.css HTTP/1.1\" 404 -\n",
      "127.0.0.1 - - [04/Nov/2022 11:27:39] \"POST /windapi HTTP/1.1\" 200 -\n",
      "127.0.0.1 - - [04/Nov/2022 11:27:40] \"GET /static/css/main.css HTTP/1.1\" 404 -\n",
      "127.0.0.1 - - [04/Nov/2022 11:27:40] \"GET /static/css/media.css HTTP/1.1\" 404 -\n",
      "127.0.0.1 - - [04/Nov/2022 11:27:40] \"GET /static/css/items_grid.css HTTP/1.1\" 404 -\n",
      "127.0.0.1 - - [04/Nov/2022 11:28:06] \"POST /y_predict HTTP/1.1\" 200 -\n",
      "127.0.0.1 - - [04/Nov/2022 11:28:06] \"GET /static/css/main.css HTTP/1.1\" 404 -\n",
      "127.0.0.1 - - [04/Nov/2022 11:28:06] \"GET /static/css/media.css HTTP/1.1\" 404 -\n",
      "127.0.0.1 - - [04/Nov/2022 11:28:06] \"GET /static/css/items_grid.css HTTP/1.1\" 404 -\n"
     ]
    },
    {
     "name": "stdout",
     "output_type": "stream",
     "text": [
      "jun\n",
      "[[6, 8, 30.34, 56.0, 7.632]]\n",
      "[1652.]\n"
     ]
    }
   ],
   "source": [
    "import numpy as np\n",
    "from flask import Flask, request, jsonify, render_template\n",
    "import joblib\n",
    "import requests\n",
    "\n",
    "app = Flask(__name__)\n",
    "#model = joblib.load('xg_RFR_forecast_model.sav')\n",
    "model = joblib.load('dec_model.sav')\n",
    "\n",
    "@app.route('/')\n",
    "def home():\n",
    "    return render_template('intro.html')\n",
    "@app.route('/predict')\n",
    "def predict():\n",
    "    return render_template('predict_page.html')\n",
    "@app.route('/windapi',methods=['POST'])\n",
    "def windapi():\n",
    "    city=request.form.get('city')\n",
    "    apikey=\"e26bb531d3393dec23475ee08ea9559b\"\n",
    "    url=\"http://api.openweathermap.org/data/2.5/weather?q=\"+city+\"&appid=\"+apikey\n",
    "    resp = requests.get(url)\n",
    "    resp=resp.json()\n",
    "    temp = str((resp[\"main\"][\"temp\"])-273.15) +\" °C\"\n",
    "    humid = str(resp[\"main\"][\"humidity\"])+\" %\"\n",
    "    pressure = str(resp[\"main\"][\"pressure\"])+\" mmHG\"\n",
    "    speed = str((resp[\"wind\"][\"speed\"])*3.6)+\" Km/hr\"\n",
    "    direc = str((resp[\"wind\"][\"deg\"]))+\" deg\"\n",
    "    return render_template('predict_page.html', temp=temp, humid=humid, pressure=pressure,speed=speed,direction = direc)   \n",
    "@app.route('/y_predict',methods=['POST'])\n",
    "def y_predict():\n",
    "    x_test =[]\n",
    "    month_dic = {\"jan\":1,\"feb\":2,\"mar\":3,\"apr\":4,\"may\":5,\"jun\":6,\"jul\":7,\"aug\":8,\"sept\":9,\"oct\":10,\"nov\":11,\"dec\":12}\n",
    "    m = request.form['month']\n",
    "    print(m)\n",
    "    x_test.append(month_dic[m])\n",
    "    d = int(request.form['day'])\n",
    "    x_test.append(d)\n",
    "    t = float(request.form['temp'])\n",
    "    x_test.append(t)\n",
    "    direc = float(request.form['direc'])\n",
    "    x_test.append(direc)\n",
    "    speed= float(request.form['wind'])\n",
    "    x_test.append(speed)\n",
    "    x_test = [x_test]\n",
    "    print(x_test)\n",
    "    prediction = model.predict(x_test)\n",
    "    print(prediction)\n",
    "    output = prediction[0] \n",
    "    return render_template('predict_page.html', prediction_text='The energy predicted is {:.2f} KWh'.format(output))\n",
    "\n",
    "\n",
    "if __name__ == \"__main__\":\n",
    "    app.run(debug=False)"
   ]
  },
  {
   "cell_type": "code",
   "execution_count": null,
   "id": "c9c0813d",
   "metadata": {},
   "outputs": [],
   "source": []
  }
 ],
 "metadata": {
  "kernelspec": {
   "display_name": "Python 3 (ipykernel)",
   "language": "python",
   "name": "python3"
  },
  "language_info": {
   "codemirror_mode": {
    "name": "ipython",
    "version": 3
   },
   "file_extension": ".py",
   "mimetype": "text/x-python",
   "name": "python",
   "nbconvert_exporter": "python",
   "pygments_lexer": "ipython3",
   "version": "3.9.12"
  }
 },
 "nbformat": 4,
 "nbformat_minor": 5
}
