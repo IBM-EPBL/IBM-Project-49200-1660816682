{
 "cells": [
  {
   "cell_type": "code",
   "execution_count": null,
   "id": "08fd3023",
   "metadata": {},
   "outputs": [],
   "source": [
    "'''Data Collection and Data pre-processing\n",
    "   We have collected data from kaggle which have 5 attributes as time-stamp,\n",
    "   active power, temperature, wind direction, wind speed\n",
    "   \n",
    "   data preprocessing steps:\n",
    "               Formating the time stamp into month,year,day\n",
    "               Handling the null values\n",
    "               Identify the dependent and independent variables\n",
    "\n",
    "'''"
   ]
  },
  {
   "cell_type": "code",
   "execution_count": 7,
   "id": "cbc85a9f",
   "metadata": {},
   "outputs": [
    {
     "data": {
      "text/html": [
       "<div>\n",
       "<style scoped>\n",
       "    .dataframe tbody tr th:only-of-type {\n",
       "        vertical-align: middle;\n",
       "    }\n",
       "\n",
       "    .dataframe tbody tr th {\n",
       "        vertical-align: top;\n",
       "    }\n",
       "\n",
       "    .dataframe thead th {\n",
       "        text-align: right;\n",
       "    }\n",
       "</style>\n",
       "<table border=\"1\" class=\"dataframe\">\n",
       "  <thead>\n",
       "    <tr style=\"text-align: right;\">\n",
       "      <th></th>\n",
       "      <th>Unnamed: 0</th>\n",
       "      <th>ActivePower</th>\n",
       "      <th>AmbientTemperatue</th>\n",
       "      <th>WindDirection</th>\n",
       "      <th>WindSpeed</th>\n",
       "    </tr>\n",
       "  </thead>\n",
       "  <tbody>\n",
       "    <tr>\n",
       "      <th>0</th>\n",
       "      <td>2018-01-01 00:00:00+00:00</td>\n",
       "      <td>-5.357727</td>\n",
       "      <td>23.148729</td>\n",
       "      <td>8.000000</td>\n",
       "      <td>2.279088</td>\n",
       "    </tr>\n",
       "    <tr>\n",
       "      <th>1</th>\n",
       "      <td>2018-01-01 00:10:00+00:00</td>\n",
       "      <td>-5.822360</td>\n",
       "      <td>23.039754</td>\n",
       "      <td>300.428571</td>\n",
       "      <td>2.339343</td>\n",
       "    </tr>\n",
       "    <tr>\n",
       "      <th>2</th>\n",
       "      <td>2018-01-01 00:20:00+00:00</td>\n",
       "      <td>-5.279409</td>\n",
       "      <td>22.948703</td>\n",
       "      <td>340.000000</td>\n",
       "      <td>2.455610</td>\n",
       "    </tr>\n",
       "    <tr>\n",
       "      <th>3</th>\n",
       "      <td>2018-01-01 00:30:00+00:00</td>\n",
       "      <td>-4.648054</td>\n",
       "      <td>22.966851</td>\n",
       "      <td>345.000000</td>\n",
       "      <td>2.026754</td>\n",
       "    </tr>\n",
       "    <tr>\n",
       "      <th>4</th>\n",
       "      <td>2018-01-01 00:40:00+00:00</td>\n",
       "      <td>-4.684632</td>\n",
       "      <td>22.936520</td>\n",
       "      <td>345.000000</td>\n",
       "      <td>1.831420</td>\n",
       "    </tr>\n",
       "  </tbody>\n",
       "</table>\n",
       "</div>"
      ],
      "text/plain": [
       "                 Unnamed: 0  ActivePower  AmbientTemperatue  WindDirection  \\\n",
       "0 2018-01-01 00:00:00+00:00    -5.357727          23.148729       8.000000   \n",
       "1 2018-01-01 00:10:00+00:00    -5.822360          23.039754     300.428571   \n",
       "2 2018-01-01 00:20:00+00:00    -5.279409          22.948703     340.000000   \n",
       "3 2018-01-01 00:30:00+00:00    -4.648054          22.966851     345.000000   \n",
       "4 2018-01-01 00:40:00+00:00    -4.684632          22.936520     345.000000   \n",
       "\n",
       "   WindSpeed  \n",
       "0   2.279088  \n",
       "1   2.339343  \n",
       "2   2.455610  \n",
       "3   2.026754  \n",
       "4   1.831420  "
      ]
     },
     "execution_count": 7,
     "metadata": {},
     "output_type": "execute_result"
    }
   ],
   "source": [
    "# import libraries\n",
    "import numpy as np\n",
    "import pandas as pd\n",
    "import matplotlib.pyplot as plt\n",
    "df = pd.read_csv(\"Turbine_data.csv\",low_memory=False,parse_dates=[\"Unnamed: 0\"])\n",
    "df.head()"
   ]
  },
  {
   "cell_type": "code",
   "execution_count": 8,
   "id": "f02487a8",
   "metadata": {},
   "outputs": [],
   "source": [
    "# duplicate the date column to change it's name \n",
    "#parsing dates\n",
    "df['DateTime'] = df['Unnamed: 0'] \n",
    "df.drop('Unnamed: 0', axis=1, inplace=True)"
   ]
  },
  {
   "cell_type": "code",
   "execution_count": 9,
   "id": "2f8e849d",
   "metadata": {},
   "outputs": [
    {
     "data": {
      "text/plain": [
       "0    2018-01-01 00:00:00+00:00\n",
       "1    2018-01-01 00:10:00+00:00\n",
       "2    2018-01-01 00:20:00+00:00\n",
       "3    2018-01-01 00:30:00+00:00\n",
       "4    2018-01-01 00:40:00+00:00\n",
       "5    2018-01-01 00:50:00+00:00\n",
       "6    2018-01-01 01:00:00+00:00\n",
       "7    2018-01-01 01:10:00+00:00\n",
       "8    2018-01-01 01:20:00+00:00\n",
       "9    2018-01-01 01:30:00+00:00\n",
       "10   2018-01-01 01:40:00+00:00\n",
       "11   2018-01-01 01:50:00+00:00\n",
       "12   2018-01-01 02:00:00+00:00\n",
       "13   2018-01-01 02:10:00+00:00\n",
       "14   2018-01-01 02:20:00+00:00\n",
       "15   2018-01-01 02:30:00+00:00\n",
       "16   2018-01-01 02:40:00+00:00\n",
       "17   2018-01-01 02:50:00+00:00\n",
       "18   2018-01-01 03:00:00+00:00\n",
       "19   2018-01-01 03:10:00+00:00\n",
       "Name: DateTime, dtype: datetime64[ns, UTC]"
      ]
     },
     "execution_count": 9,
     "metadata": {},
     "output_type": "execute_result"
    }
   ],
   "source": [
    "df['DateTime'].head(20)"
   ]
  },
  {
   "cell_type": "code",
   "execution_count": 10,
   "id": "3b83de6e",
   "metadata": {},
   "outputs": [],
   "source": [
    "# Add datetime parameters \n",
    "df['DateTime'] = pd.to_datetime(df['DateTime'], \n",
    " format = '%Y-%m-%dT%H:%M:%SZ', \n",
    " errors = 'coerce')\n",
    "\n",
    "df['year'] = df['DateTime'].dt.year\n",
    "df['month'] = df['DateTime'].dt.month\n",
    "df['day'] = df['DateTime'].dt.day\n",
    "df['hour'] = df['DateTime'].dt.hour\n",
    "df['minute'] = df['DateTime'].dt.minute"
   ]
  },
  {
   "cell_type": "code",
   "execution_count": 11,
   "id": "223634ab",
   "metadata": {},
   "outputs": [
    {
     "data": {
      "text/plain": [
       "ActivePower          23330\n",
       "AmbientTemperatue    24263\n",
       "WindDirection        45802\n",
       "WindSpeed            23485\n",
       "DateTime                 0\n",
       "year                     0\n",
       "month                    0\n",
       "day                      0\n",
       "hour                     0\n",
       "minute                   0\n",
       "dtype: int64"
      ]
     },
     "execution_count": 11,
     "metadata": {},
     "output_type": "execute_result"
    }
   ],
   "source": [
    "#check for null values\n",
    "df.isna().sum()"
   ]
  },
  {
   "cell_type": "code",
   "execution_count": 14,
   "id": "aeffc6e9",
   "metadata": {},
   "outputs": [],
   "source": [
    "#handling null values\n",
    "df['AmbientTemperatue'].fillna(int(df['AmbientTemperatue'].mean()), inplace=True)\n",
    "df['WindDirection'].fillna(int(df['WindDirection'].mean()), inplace=True)\n",
    "df['WindSpeed'].fillna(int(df['WindSpeed'].mean()), inplace=True)\n",
    "df['ActivePower'].fillna(int(df['ActivePower'].mean()), inplace=True)"
   ]
  },
  {
   "cell_type": "code",
   "execution_count": 15,
   "id": "f5aa8a95",
   "metadata": {},
   "outputs": [
    {
     "data": {
      "text/plain": [
       "ActivePower          False\n",
       "AmbientTemperatue    False\n",
       "WindDirection        False\n",
       "WindSpeed            False\n",
       "DateTime             False\n",
       "year                 False\n",
       "month                False\n",
       "day                  False\n",
       "hour                 False\n",
       "minute               False\n",
       "dtype: bool"
      ]
     },
     "execution_count": 15,
     "metadata": {},
     "output_type": "execute_result"
    }
   ],
   "source": [
    "df.isnull().any()"
   ]
  },
  {
   "cell_type": "code",
   "execution_count": 16,
   "id": "b33b12bd",
   "metadata": {},
   "outputs": [
    {
     "data": {
      "text/html": [
       "<div>\n",
       "<style scoped>\n",
       "    .dataframe tbody tr th:only-of-type {\n",
       "        vertical-align: middle;\n",
       "    }\n",
       "\n",
       "    .dataframe tbody tr th {\n",
       "        vertical-align: top;\n",
       "    }\n",
       "\n",
       "    .dataframe thead th {\n",
       "        text-align: right;\n",
       "    }\n",
       "</style>\n",
       "<table border=\"1\" class=\"dataframe\">\n",
       "  <thead>\n",
       "    <tr style=\"text-align: right;\">\n",
       "      <th></th>\n",
       "      <th>month</th>\n",
       "      <th>day</th>\n",
       "      <th>AmbientTemperatue</th>\n",
       "      <th>WindDirection</th>\n",
       "      <th>WindSpeed</th>\n",
       "    </tr>\n",
       "  </thead>\n",
       "  <tbody>\n",
       "    <tr>\n",
       "      <th>0</th>\n",
       "      <td>1</td>\n",
       "      <td>1</td>\n",
       "      <td>23.148729</td>\n",
       "      <td>8.000000</td>\n",
       "      <td>2.279088</td>\n",
       "    </tr>\n",
       "    <tr>\n",
       "      <th>1</th>\n",
       "      <td>1</td>\n",
       "      <td>1</td>\n",
       "      <td>23.039754</td>\n",
       "      <td>300.428571</td>\n",
       "      <td>2.339343</td>\n",
       "    </tr>\n",
       "    <tr>\n",
       "      <th>2</th>\n",
       "      <td>1</td>\n",
       "      <td>1</td>\n",
       "      <td>22.948703</td>\n",
       "      <td>340.000000</td>\n",
       "      <td>2.455610</td>\n",
       "    </tr>\n",
       "    <tr>\n",
       "      <th>3</th>\n",
       "      <td>1</td>\n",
       "      <td>1</td>\n",
       "      <td>22.966851</td>\n",
       "      <td>345.000000</td>\n",
       "      <td>2.026754</td>\n",
       "    </tr>\n",
       "    <tr>\n",
       "      <th>4</th>\n",
       "      <td>1</td>\n",
       "      <td>1</td>\n",
       "      <td>22.936520</td>\n",
       "      <td>345.000000</td>\n",
       "      <td>1.831420</td>\n",
       "    </tr>\n",
       "  </tbody>\n",
       "</table>\n",
       "</div>"
      ],
      "text/plain": [
       "   month  day  AmbientTemperatue  WindDirection  WindSpeed\n",
       "0      1    1          23.148729       8.000000   2.279088\n",
       "1      1    1          23.039754     300.428571   2.339343\n",
       "2      1    1          22.948703     340.000000   2.455610\n",
       "3      1    1          22.966851     345.000000   2.026754\n",
       "4      1    1          22.936520     345.000000   1.831420"
      ]
     },
     "execution_count": 16,
     "metadata": {},
     "output_type": "execute_result"
    }
   ],
   "source": [
    "#splitting dependent and independent features\n",
    "independent_features = df[['month','day','AmbientTemperatue','WindDirection','WindSpeed']]\n",
    "independent_features.head()"
   ]
  },
  {
   "cell_type": "code",
   "execution_count": 17,
   "id": "20ae88b3",
   "metadata": {},
   "outputs": [
    {
     "data": {
      "text/plain": [
       "month                False\n",
       "day                  False\n",
       "AmbientTemperatue    False\n",
       "WindDirection        False\n",
       "WindSpeed            False\n",
       "dtype: bool"
      ]
     },
     "execution_count": 17,
     "metadata": {},
     "output_type": "execute_result"
    }
   ],
   "source": [
    "independent_features.isnull().any()"
   ]
  },
  {
   "cell_type": "code",
   "execution_count": 18,
   "id": "432cae02",
   "metadata": {},
   "outputs": [],
   "source": [
    "target = df['ActivePower']"
   ]
  },
  {
   "cell_type": "code",
   "execution_count": 19,
   "id": "902186c1",
   "metadata": {},
   "outputs": [
    {
     "name": "stdout",
     "output_type": "stream",
     "text": [
      "(118080, 5)\n",
      "(118080,)\n"
     ]
    }
   ],
   "source": [
    "df_new = independent_features\n",
    "X=np.asanyarray(df_new).astype('int')\n",
    "y=np.asanyarray(target).astype('int')\n",
    "print(X.shape)\n",
    "print(y.shape)"
   ]
  },
  {
   "cell_type": "code",
   "execution_count": 20,
   "id": "0796ad30",
   "metadata": {},
   "outputs": [
    {
     "data": {
      "text/plain": [
       "False"
      ]
     },
     "execution_count": 20,
     "metadata": {},
     "output_type": "execute_result"
    }
   ],
   "source": [
    "target.isnull().any()"
   ]
  },
  {
   "cell_type": "code",
   "execution_count": null,
   "id": "9b5d77a4",
   "metadata": {},
   "outputs": [],
   "source": []
  }
 ],
 "metadata": {
  "kernelspec": {
   "display_name": "Python 3 (ipykernel)",
   "language": "python",
   "name": "python3"
  },
  "language_info": {
   "codemirror_mode": {
    "name": "ipython",
    "version": 3
   },
   "file_extension": ".py",
   "mimetype": "text/x-python",
   "name": "python",
   "nbconvert_exporter": "python",
   "pygments_lexer": "ipython3",
   "version": "3.9.12"
  }
 },
 "nbformat": 4,
 "nbformat_minor": 5
}
