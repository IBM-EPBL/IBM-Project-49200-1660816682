{
 "cells": [
  {
   "cell_type": "code",
   "execution_count": null,
   "id": "a730036a",
   "metadata": {},
   "outputs": [],
   "source": [
    "'''sprint-4 \n",
    "\n",
    "Train thd model in IBM cloud \n",
    "prediction based on scoring response of Trained model at IBM CLOUD\n",
    "'''"
   ]
  },
  {
   "cell_type": "code",
   "execution_count": 2,
   "id": "4ce36ab4",
   "metadata": {},
   "outputs": [
    {
     "name": "stdout",
     "output_type": "stream",
     "text": [
      " * Serving Flask app '__main__' (lazy loading)\n",
      " * Environment: production\n",
      "\u001b[31m   WARNING: This is a development server. Do not use it in a production deployment.\u001b[0m\n",
      "\u001b[2m   Use a production WSGI server instead.\u001b[0m\n",
      " * Debug mode: off\n"
     ]
    },
    {
     "name": "stderr",
     "output_type": "stream",
     "text": [
      " * Running on http://127.0.0.1:5000/ (Press CTRL+C to quit)\n",
      "127.0.0.1 - - [07/Nov/2022 16:56:36] \"GET / HTTP/1.1\" 200 -\n",
      "127.0.0.1 - - [07/Nov/2022 16:56:36] \"GET /static/images/m123.gif HTTP/1.1\" 404 -\n",
      "127.0.0.1 - - [07/Nov/2022 16:56:40] \"GET /predict HTTP/1.1\" 200 -\n",
      "127.0.0.1 - - [07/Nov/2022 16:56:40] \"GET /static/css/main.css HTTP/1.1\" 404 -\n",
      "127.0.0.1 - - [07/Nov/2022 16:56:40] \"GET /static/css/media.css HTTP/1.1\" 404 -\n",
      "127.0.0.1 - - [07/Nov/2022 16:56:40] \"GET /static/css/items_grid.css HTTP/1.1\" 404 -\n",
      "127.0.0.1 - - [07/Nov/2022 16:56:46] \"POST /windapi HTTP/1.1\" 200 -\n",
      "127.0.0.1 - - [07/Nov/2022 16:56:47] \"GET /static/css/main.css HTTP/1.1\" 404 -\n",
      "127.0.0.1 - - [07/Nov/2022 16:56:47] \"GET /static/css/items_grid.css HTTP/1.1\" 404 -\n",
      "127.0.0.1 - - [07/Nov/2022 16:56:47] \"GET /static/css/media.css HTTP/1.1\" 404 -\n"
     ]
    },
    {
     "name": "stdout",
     "output_type": "stream",
     "text": [
      "jun\n"
     ]
    },
    {
     "name": "stderr",
     "output_type": "stream",
     "text": [
      "127.0.0.1 - - [07/Nov/2022 16:57:10] \"POST /y_predict HTTP/1.1\" 200 -\n",
      "127.0.0.1 - - [07/Nov/2022 16:57:10] \"GET /static/css/media.css HTTP/1.1\" 404 -\n",
      "127.0.0.1 - - [07/Nov/2022 16:57:10] \"GET /static/css/items_grid.css HTTP/1.1\" 404 -\n",
      "127.0.0.1 - - [07/Nov/2022 16:57:10] \"GET /static/css/main.css HTTP/1.1\" 404 -\n"
     ]
    },
    {
     "name": "stdout",
     "output_type": "stream",
     "text": [
      "Scoring response\n",
      "{'predictions': [{'fields': ['prediction'], 'values': [[367.0]]}]}\n",
      "final prediction 367.0\n",
      "[[6, 30, 33.99, 0.0, 3.708]]\n"
     ]
    }
   ],
   "source": [
    "import numpy as np\n",
    "from flask import Flask, request, jsonify, render_template\n",
    "import joblib\n",
    "import requests\n",
    "\n",
    "# NOTE: you must manually set API_KEY below using information retrieved from your IBM Cloud account.\n",
    "API_KEY = \"eq_uB9S4u70ys6t-jeWs2uoNIscWVl0Gh0C9GTKlDloW\"\n",
    "token_response = requests.post('https://iam.cloud.ibm.com/identity/token', data={\"apikey\":\n",
    " API_KEY, \"grant_type\": 'urn:ibm:params:oauth:grant-type:apikey'})\n",
    "mltoken = token_response.json()[\"access_token\"]\n",
    "\n",
    "header = {'Content-Type': 'application/json', 'Authorization': 'Bearer ' + mltoken}\n",
    "\n",
    "\n",
    "app = Flask(__name__)\n",
    "#model = joblib.load('xg_RFR_forecast_model.sav')\n",
    "#model = joblib.load('dec_model.sav')\n",
    "\n",
    "@app.route('/')\n",
    "def home():\n",
    "    return render_template('intro.html')\n",
    "@app.route('/predict')\n",
    "def predict():\n",
    "    return render_template('predict_page.html')\n",
    "@app.route('/windapi',methods=['POST'])\n",
    "def windapi():\n",
    "    city=request.form.get('city')\n",
    "    apikey=\"e26bb531d3393dec23475ee08ea9559b\"\n",
    "    url=\"http://api.openweathermap.org/data/2.5/weather?q=\"+city+\"&appid=\"+apikey\n",
    "    resp = requests.get(url)\n",
    "    resp=resp.json()\n",
    "    temp = str((resp[\"main\"][\"temp\"])-273.15) +\" °C\"\n",
    "    humid = str(resp[\"main\"][\"humidity\"])+\" %\"\n",
    "    pressure = str(resp[\"main\"][\"pressure\"])+\" mmHG\"\n",
    "    speed = str((resp[\"wind\"][\"speed\"])*3.6)+\" Km/hr\"\n",
    "    direc = str((resp[\"wind\"][\"deg\"]))+\" deg\"\n",
    "    return render_template('predict_page.html', temp=temp, humid=humid, pressure=pressure,speed=speed,direction = direc)   \n",
    "@app.route('/y_predict',methods=['POST'])\n",
    "def y_predict():\n",
    "    x_test =[]\n",
    "    month_dic = {\"jan\":1,\"feb\":2,\"mar\":3,\"apr\":4,\"may\":5,\"jun\":6,\"jul\":7,\"aug\":8,\"sept\":9,\"oct\":10,\"nov\":11,\"dec\":12}\n",
    "    m = request.form['month']\n",
    "    mon = month_dic[m]\n",
    "    print(m)\n",
    "    #x_test.append(month_dic[m])\n",
    "    d = int(request.form['day'])\n",
    "    #x_test.append(d)\n",
    "    t = float(request.form['temp'])\n",
    "    #x_test.append(t)\n",
    "    direc = float(request.form['direc'])\n",
    "    #x_test.append(direc)\n",
    "    speed= float(request.form['wind'])\n",
    "    #x_test.append(speed)\n",
    "    #x_test = [x_test]\n",
    "    x_test =[[mon,d,t,direc,speed]]\n",
    "    payload_scoring = {\"input_data\": [{\"field\": [['m','d','t','direc','speed']], \"values\": x_test}]}\n",
    "\n",
    "    response_scoring = requests.post('https://us-south.ml.cloud.ibm.com/ml/v4/deployments/3c935904-17f3-4b91-993e-7fbf112afe46/predictions?version=2022-11-06', json=payload_scoring,headers={'Authorization': 'Bearer ' + mltoken})\n",
    "    print(\"Scoring response\")\n",
    "    print(response_scoring.json())\n",
    "\n",
    "    predictions = response_scoring.json()\n",
    "    output = predictions['predictions'][0]['values'][0][0]\n",
    "    print(\"final prediction\",output)\n",
    "    \n",
    "    \n",
    "    \n",
    "    print(x_test)\n",
    "    \n",
    "    return render_template('predict_page.html', prediction_text='The energy predicted is {:.2f} KWh'.format(output))\n",
    "\n",
    "\n",
    "if __name__ == \"__main__\":\n",
    "    app.run(debug=False)"
   ]
  },
  {
   "cell_type": "code",
   "execution_count": null,
   "id": "37df688b",
   "metadata": {},
   "outputs": [],
   "source": []
  }
 ],
 "metadata": {
  "kernelspec": {
   "display_name": "Python 3 (ipykernel)",
   "language": "python",
   "name": "python3"
  },
  "language_info": {
   "codemirror_mode": {
    "name": "ipython",
    "version": 3
   },
   "file_extension": ".py",
   "mimetype": "text/x-python",
   "name": "python",
   "nbconvert_exporter": "python",
   "pygments_lexer": "ipython3",
   "version": "3.9.12"
  }
 },
 "nbformat": 4,
 "nbformat_minor": 5
}
